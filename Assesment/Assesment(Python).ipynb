{
 "cells": [
  {
   "cell_type": "markdown",
   "metadata": {},
   "source": [
    "#### Qno. 1 Write an efficient algorithm that searches for a value target in an m x n integer matrix. This matrix has the following properties:\n",
    "\n",
    "#### 1) Integers in each row are sorted from right to left.\n",
    "\n",
    "#### 2) The first integer of each row is greater than the last integer of the previous row."
   ]
  },
  {
   "cell_type": "code",
   "execution_count": 1,
   "metadata": {},
   "outputs": [
    {
     "name": "stdout",
     "output_type": "stream",
     "text": [
      "True\n"
     ]
    }
   ],
   "source": [
    "def Matrix1(mat, target):\n",
    "    if not mat or not mat[0]:\n",
    "        return False\n",
    "\n",
    "    rows, cols = len(mat), len(mat[0])\n",
    "    row, col = 0, cols - 1\n",
    "\n",
    "    while row < rows and col >= 0:\n",
    "        current_value = mat[row][col]\n",
    "\n",
    "        if current_value == target:\n",
    "            return True\n",
    "        elif current_value < target:\n",
    "            row += 1\n",
    "        else:\n",
    "            col -= 1\n",
    "\n",
    "    return False\n",
    "\n",
    "mat = [[1, 3, 5, 7], [10, 11, 16, 20], [23, 30, 34, 60]]\n",
    "target = 3\n",
    "output = Matrix1(mat, target)\n",
    "print(output) \n"
   ]
  },
  {
   "cell_type": "markdown",
   "metadata": {},
   "source": [
    "#### Qno.2 Write a program that takes a string as input, and counts the frequency of each word in the string, there might  be repeated characters in the string. Your task is to find the highest frequency and returns the length of the  highest-frequency word."
   ]
  },
  {
   "cell_type": "code",
   "execution_count": 2,
   "metadata": {},
   "outputs": [
    {
     "name": "stdout",
     "output_type": "stream",
     "text": [
      "Enter a string: write write write all the number from from from 1 to 100\n",
      "Length of the highest-frequency word: 5\n"
     ]
    }
   ],
   "source": [
    "def find_highest_frequency_length(input_string):\n",
    "\n",
    "       word_frequency = {}\n",
    "\n",
    "       # Split the input string into words\n",
    "\n",
    "       words = input_string.split()\n",
    "\n",
    "       # Count the frequency of each word\n",
    "\n",
    "       for word in words:\n",
    "\n",
    "            if word in word_frequency:\n",
    "\n",
    "                word_frequency[word] += 1\n",
    "\n",
    "            else:\n",
    "\n",
    "                word_frequency[word] = 1\n",
    "\n",
    "       # Find the highest frequency\n",
    "\n",
    "       highest_frequency = max(word_frequency.values())\n",
    "\n",
    "       # Find the length of the highest-frequency word\n",
    "\n",
    "       highest_frequency_word = [word for word, frequency in word_frequency.items() if frequency == highest_frequency]\n",
    "\n",
    "       highest_frequency_word_length = len(highest_frequency_word[0])\n",
    "\n",
    "       return highest_frequency_word_length\n",
    "\n",
    "# Prompt the user to enter a string\n",
    "\n",
    "input_string = input(\"Enter a string: \")\n",
    "\n",
    "# Call the function to find the length of the highest-frequency word\n",
    "\n",
    "length = find_highest_frequency_length(input_string)\n",
    "\n",
    "print(\"Length of the highest-frequency word:\", length)"
   ]
  },
  {
   "cell_type": "code",
   "execution_count": null,
   "metadata": {},
   "outputs": [],
   "source": []
  },
  {
   "cell_type": "code",
   "execution_count": null,
   "metadata": {},
   "outputs": [],
   "source": []
  },
  {
   "cell_type": "code",
   "execution_count": null,
   "metadata": {},
   "outputs": [],
   "source": []
  },
  {
   "cell_type": "code",
   "execution_count": null,
   "metadata": {},
   "outputs": [],
   "source": []
  },
  {
   "cell_type": "code",
   "execution_count": null,
   "metadata": {},
   "outputs": [],
   "source": []
  },
  {
   "cell_type": "code",
   "execution_count": null,
   "metadata": {},
   "outputs": [],
   "source": []
  },
  {
   "cell_type": "code",
   "execution_count": null,
   "metadata": {},
   "outputs": [],
   "source": []
  },
  {
   "cell_type": "code",
   "execution_count": null,
   "metadata": {},
   "outputs": [],
   "source": []
  },
  {
   "cell_type": "code",
   "execution_count": null,
   "metadata": {},
   "outputs": [],
   "source": []
  }
 ],
 "metadata": {
  "kernelspec": {
   "display_name": "Python 3",
   "language": "python",
   "name": "python3"
  },
  "language_info": {
   "codemirror_mode": {
    "name": "ipython",
    "version": 3
   },
   "file_extension": ".py",
   "mimetype": "text/x-python",
   "name": "python",
   "nbconvert_exporter": "python",
   "pygments_lexer": "ipython3",
   "version": "3.7.4"
  }
 },
 "nbformat": 4,
 "nbformat_minor": 2
}
